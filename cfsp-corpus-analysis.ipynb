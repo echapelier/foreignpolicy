{
 "cells": [
  {
   "cell_type": "markdown",
   "metadata": {},
   "source": [
    "# How often does the European Union express \"deep concern\"?\n",
    "\n",
    "During the climax of the war in Ukraine, in 2014-2015, many Ukrainian people felt that the European Union failed to provide them with real support, contenting themselves with releasing statements that barely condemned Russia and mostly expressed \"deep concern\" about the \"situation\" in Ukraine. These catch phrases have become a source of sarcastic jokes, but also an illustration, beyond the Ukrainian case, of the EU's toothless \"declaratory diplomacy\".\n",
    "\n",
    "In order to check whether the EU does indeed express \"concern\" or \"deep concern\" about every \"situation\" in the world, we will read through the EU foreign policy statements and identify the most mentionned countries as well as the most frequent words used to express the EU's position.\n",
    "\n",
    "The source of the data is the [website of the Council of the European Union](https://www.consilium.europa.eu/en/press/press-releases/?keyword=&dateFrom=&dateTo=2020%2F06%2F18&filters=1653&filters=1470&filters=1474), where all press releases and statements since 2014 are online, though the oldest only in PDF format. We will scrap those published before June 18th, 2020."
   ]
  },
  {
   "cell_type": "code",
   "execution_count": null,
   "metadata": {},
   "outputs": [],
   "source": [
    "# Importing libraries needed for web scraping\n",
    "import requests\n",
    "from bs4 import BeautifulSoup\n",
    "from time import sleep\n",
    "from tqdm import tqdm\n",
    "from datetime import datetime"
   ]
  },
  {
   "cell_type": "markdown",
   "metadata": {},
   "source": [
    "Before we scrap full texts of press releases and statements, we first scrap only titles, dates and links from search results so that we will able to select only the content relevant for our analysis.\n",
    "\n",
    "## Step 1: building a table of contents to facilitate content selection"
   ]
  },
  {
   "cell_type": "code",
   "execution_count": null,
   "metadata": {},
   "outputs": [],
   "source": [
    "data = []\n",
    "\n",
    "# There are 115 pages of search results\n",
    "for i in tqdm(range(1, 116)):\n",
    "    page_nb = str(i)\n",
    "    url = 'https://www.consilium.europa.eu/en/press/press-releases/?dateTo=2020%2f06%2f18&filters=1653&filters=1470&filters=1474&Page=' + page_nb\n",
    "    r = requests.get(url)\n",
    "    soup = BeautifulSoup(r.content, 'html.parser')\n",
    "    \n",
    "    rows = soup.select('div .inline-items')\n",
    "    \n",
    "    for row in rows:\n",
    "        d = dict()\n",
    "        raw_date = row.span.attrs['content']\n",
    "        d['date'] = datetime.fromisoformat(raw_date)\n",
    "        d['link'] = 'https://www.consilium.europa.eu' + row.select_one('a')['href']\n",
    "        d['title'] = row.select_one('a').text\n",
    "        data.append(d)\n",
    "    \n",
    "    sleep(10)"
   ]
  },
  {
   "cell_type": "code",
   "execution_count": null,
   "metadata": {},
   "outputs": [],
   "source": [
    "# Generating a dataframe\n",
    "import pandas as pd\n",
    "df = pd.DataFrame(data=data)\n",
    "df.head()"
   ]
  },
  {
   "cell_type": "code",
   "execution_count": null,
   "metadata": {},
   "outputs": [],
   "source": [
    "# Saving the data to a JSON file\n",
    "df.to_json('data.json', orient='table')"
   ]
  },
  {
   "cell_type": "code",
   "execution_count": null,
   "metadata": {},
   "outputs": [],
   "source": [
    "# New starting point\n",
    "import pandas as pd\n",
    "df = pd.read_json('data.json', orient='table')"
   ]
  },
  {
   "cell_type": "code",
   "execution_count": null,
   "metadata": {},
   "outputs": [],
   "source": [
    "# Filtering content\n",
    "df = df.loc[df['title'].str.contains('Declaration on|High Representative|Statement of the EU Foreign Ministers|Foreign Affairs Council|conclusions', case=False)]\n",
    "# We focus here on positions towards states and diplomatic crises,\n",
    "# leaving aside issue-centered positions on e.g. climate, development and human rights,\n",
    "# or statements related to processes like enlargement and bilateral cooperation\n",
    "df = df.loc[(df['title'].str.contains('indicative|climate|water|migration|gender|eea|day|child|indigenous|anniversary|strategy|development policy|eastern partnership|alignment', case=False)) == False]\n",
    "df = df.drop([2192, 2144, 2121, 2116, 2110, 2108, 2107, 2100, 2089, 2068, 2078, 2073, 2069, 2042, 2016, 2011, 2010, 2009, 1992, 1991, 1990, 1989, 1972, 1970, 1964, 1960, 1958, 1954, 1896, 1890, 1882, 1881, 1853, 1849, 1829, 1828, 1809, 1806, 1796, 1794, 1793, 1792, 1789, 1784, 1782, 1781, 1779, 1717, 1704, 1699, 1678, 1677, 1676, 1647, 1638, 1636, 1634, 1603, 1576, 1541, 1500, 1499, 1460, 1454, 1426, 1423, 1422, 1414, 1393, 1391, 1378, 1354, 1344, 1322, 1321, 1317, 1300, 1299, 1298, 1296, 1295, 1294, 1286, 1284, 1283, 1263, 1261, 1259, 1248, 1229, 1198, 1159, 1131, 1126, 1124, 1114, 1112, 1103, 1102, 1087, 1042, 1027, 1022, 982, 978, 976, 975, 974, 946, 945, 941, 940, 893, 832, 825, 818, 784, 781, 745, 703, 702, 645, 644, 614, 606, 599, 537, 534, 508, 484, 483, 469, 467, 442, 417, 379, 365, 363, 361, 357, 333, 331, 328, 294, 293, 292, 284, 264, 228, 204, 196, 175, 174, 158, 157, 155, 154, 134, 105, 99, 64, 47, 28, 9, 8, 4, 2])"
   ]
  },
  {
   "cell_type": "code",
   "execution_count": null,
   "metadata": {},
   "outputs": [],
   "source": [
    "# Importing a list of countries from Google Public Data\n",
    "list_countries = pd.read_csv('https://raw.githubusercontent.com/google/dspl/master/samples/google/canonical/countries.csv', usecols=['name'])\n",
    "list_countries = pd.Series(data=list_countries['name']).tolist()"
   ]
  },
  {
   "cell_type": "code",
   "execution_count": null,
   "metadata": {},
   "outputs": [],
   "source": [
    "# Custom function to look for country names in titles \n",
    "def find_country(sentence):\n",
    "    split_sentence = sentence.split()\n",
    "    for word in split_sentence:\n",
    "        word = word.strip(' :').replace(\"'s\", \"\")\n",
    "        if word in list_countries:\n",
    "            return word\n",
    "            break\n",
    "\n",
    "df['main_topic'] = df['title'].apply(find_country)"
   ]
  },
  {
   "cell_type": "code",
   "execution_count": null,
   "metadata": {},
   "outputs": [],
   "source": [
    "custom_dict = {\n",
    "    \"Democratic Republic of the Congo\": \"Congo [DRC]\",\n",
    "    \"Democratic Republic of Congo\": \"Congo [DRC]\",\n",
    "    \"DRC\": \"Congo [DRC]\",\n",
    "    \"Republic of the Congo\": \"Congo [Republic]\",\n",
    "    \"Central African Republic\": \"Central African Republic\",\n",
    "    \"République centrafricaine\": \"Central African Republic\",\n",
    "    \"Côte d'Ivoire\": \"Côte d'Ivoire\",\n",
    "    \"Tripoli\": \"Libya\",\n",
    "    \"Aleppo\": \"Syria\",\n",
    "    \"Middle East\": \"Middle East\",\n",
    "    \"Gaza\": \"Middle East\",\n",
    "    \"Palestinian Authority\": \"Middle East\",\n",
    "    \"United States\": \"United States\",\n",
    "    \"Hong Kong\": \"China\",\n",
    "    \"Myanmar/Burma\": \"Myanmar [Burma]\",\n",
    "    \"Sri Lanka\": \"Sri Lanka\",\n",
    "    \"Democratic People's Republic of Korea\": \"North Korea\",\n",
    "    \"Bosnia and Herzegovina\": \"Bosnia and Herzegovina\",\n",
    "    \"Crimea\": \"Ukraine\",\n",
    "    \"MH17\": \"Ukraine\",\n",
    "    \"UKRAINE\": \"Ukraine\",\n",
    "    \"Azov Sea\": \"Ukraine\",\n",
    "    \"Eastern Mediterranean\": \"Turkey\",\n",
    "    \"Swiss Confederation\": \"Switzerland\",\n",
    "    \"ISIL\": \"terrorism\",\n",
    "    \"terrorism\": \"terrorism\",\n",
    "    \"Boko Haram\": \"terrorism\",\n",
    "    \"Ebola\": \"ebola\",\n",
    "    \"Khashoggi\": \"Saudi Arabia\"\n",
    "}\n",
    "\n",
    "def find_topic(sentence):\n",
    "    for item in custom_dict:\n",
    "        if item in sentence:\n",
    "            return custom_dict[item]\n",
    "            break\n",
    "        \n",
    "df.loc[df['main_topic'].isnull(), 'main_topic'] = df['title'].apply(find_topic)"
   ]
  },
  {
   "cell_type": "code",
   "execution_count": null,
   "metadata": {},
   "outputs": [],
   "source": [
    "df.loc[df['title'].str.contains('South Sudan'), 'main_topic'] = 'South Sudan'\n",
    "df.loc[df['title'].str.contains('Al-Bashir'), 'main_topic'] = 'Sudan'\n",
    "df.loc[2087, 'main_topic'] = 'Uganda'\n",
    "df.loc[1940, 'main_topic'] = 'Ukraine'\n",
    "df.loc[1937, 'main_topic'] = 'Middle East'\n",
    "df.loc[1924, 'main_topic'] = 'Ukraine'\n",
    "df.loc[1914, 'main_topic'] = 'Congo [DRC]'\n",
    "df.loc[1880, 'main_topic'] = 'Ukraine'\n",
    "df.loc[1832, 'main_topic'] = 'terrorism'\n",
    "df.loc[1823, 'main_topic'] = 'ebola'\n",
    "df.loc[1771, 'main_topic'] = 'Ukraine'\n",
    "df.loc[1707, 'main_topic'] = 'Ukraine'\n",
    "df.loc[1674, 'main_topic'] = 'Macedonia [FYROM]'\n",
    "df.loc[1522, 'main_topic'] = 'Iraq'\n",
    "df.loc[1507, 'main_topic'] = 'Syria'\n",
    "df.loc[1258, 'main_topic'] = 'Mali'\n",
    "df.loc[1161, 'main_topic'] = 'Syria'\n",
    "df.loc[1083, 'main_topic'] = 'Ukraine'\n",
    "df.loc[1080, 'main_topic'] = 'Syria'\n",
    "df.loc[894, 'main_topic'] = 'North Korea'\n",
    "df.loc[729, 'main_topic'] = 'Russia'\n",
    "df.loc[513, 'main_topic'] = 'Ukraine'\n",
    "df.loc[463, 'main_topic'] = 'Yemen'\n",
    "df.loc[447, 'main_topic'] = 'Venezuela'\n",
    "df.loc[374, 'main_topic'] = 'Middle East'\n",
    "df.loc[255, 'main_topic'] = 'Russia'\n",
    "df.loc[89, 'main_topic'] = 'Turkey'\n",
    "df.loc[61, 'main_topic'] = 'Syria'\n",
    "df.loc[52, 'main_topic'] = 'coronavirus'"
   ]
  },
  {
   "cell_type": "code",
   "execution_count": null,
   "metadata": {},
   "outputs": [],
   "source": [
    "print('Remaining items to classify:', df[df['main_topic'].isnull()].shape[0])\n",
    "print('Final number of documents to analyse:', df.shape[0])"
   ]
  },
  {
   "cell_type": "markdown",
   "metadata": {},
   "source": [
    "## Step 2: HTML content scraping"
   ]
  },
  {
   "cell_type": "code",
   "execution_count": null,
   "metadata": {},
   "outputs": [],
   "source": [
    "# Sorting documents in HTML and PDF format\n",
    "df['doctype'] = 'html'\n",
    "df.loc[df['link'].str.contains('pdf'), 'doctype'] = 'pdf'"
   ]
  },
  {
   "cell_type": "code",
   "execution_count": null,
   "metadata": {},
   "outputs": [],
   "source": [
    "# Importing libraries needed for web scraping\n",
    "import requests\n",
    "from bs4 import BeautifulSoup\n",
    "from time import sleep\n",
    "from tqdm import tqdm"
   ]
  },
  {
   "cell_type": "code",
   "execution_count": null,
   "metadata": {},
   "outputs": [],
   "source": [
    "tqdm.pandas()\n",
    "\n",
    "def get_content(url):\n",
    "    r = requests.get(url)\n",
    "    soup = BeautifulSoup(r.content, 'html.parser')\n",
    "    \n",
    "    try:\n",
    "        text = soup.select('div .col-md-9')[1].select('p')\n",
    "        content = ''\n",
    "        for paragraph in text:\n",
    "            content = content + paragraph.get_text() + ' '\n",
    "        return content.strip()\n",
    "    except TypeError:\n",
    "        pass\n",
    "\n",
    "df.loc[df['doctype'] == 'html', 'content'] = df.loc[df['doctype'] == 'html', 'link'].progress_apply(get_content)"
   ]
  },
  {
   "cell_type": "code",
   "execution_count": null,
   "metadata": {},
   "outputs": [],
   "source": [
    "df['content'] = df['content'].str.replace('\\xa0', '')\n",
    "df = df.drop([1021, 1056, 1231, 1507])"
   ]
  },
  {
   "cell_type": "code",
   "execution_count": null,
   "metadata": {},
   "outputs": [],
   "source": [
    "ol_items = [200, 201, 203, 205, 769, 834, 984, 1167, 1172, 1213, 1220, 1256, 1319, 1355, 1386, 1387, 1389, 1390, 1421, 1513, 1606, 1721, 1740, 1742, 1743, 1744, 1745, 1746, 1747]\n",
    "for item in tqdm(ol_items):\n",
    "    url = df.loc[item, 'link']\n",
    "    r = requests.get(url)\n",
    "    soup = BeautifulSoup(r.content, 'html.parser')\n",
    "    text = soup.select('div .col-md-9')[1].find('ol').text.replace('\\n', ' ').replace('\\xa0', '').strip()\n",
    "    df.loc[item, 'content'] = text\n",
    "    sleep(10)"
   ]
  },
  {
   "cell_type": "code",
   "execution_count": null,
   "metadata": {},
   "outputs": [],
   "source": [
    "pdf_links = [700, 786, 1069, 1080, 1083, 1089, 1168, 1171, 1218, 1219, 1258, 1288, 1289, 1515, 1516]\n",
    "for item in tqdm(pdf_links):\n",
    "    df.loc[item, 'doctype'] = 'pdf'\n",
    "    url = df.loc[item, 'link']\n",
    "    r = requests.get(url)\n",
    "    soup = BeautifulSoup(r.content, 'html.parser')\n",
    "    df.loc[item, 'link'] = soup.select_one('.link-pdf')['href']\n",
    "    sleep(10)"
   ]
  },
  {
   "cell_type": "code",
   "execution_count": null,
   "metadata": {},
   "outputs": [],
   "source": [
    "# Fixing broken links\n",
    "df.loc[1008, 'doctype'] = 'pdf'\n",
    "df.loc[1008, 'link'] = 'https://data.consilium.europa.eu/doc/document/ST-7614-2017-INIT/en/pdf'\n",
    "df.loc[(df['doctype'] == 'pdf') & (df['link'].str.match('http') == False), 'link'] = 'https://www.consilium.europa.eu' + df['link']"
   ]
  },
  {
   "cell_type": "markdown",
   "metadata": {},
   "source": [
    "## Step 3: PDF content scraping"
   ]
  },
  {
   "cell_type": "code",
   "execution_count": null,
   "metadata": {},
   "outputs": [],
   "source": [
    "import urllib\n",
    "from io import BytesIO\n",
    "import PyPDF2"
   ]
  },
  {
   "cell_type": "code",
   "execution_count": null,
   "metadata": {},
   "outputs": [],
   "source": [
    "tqdm.pandas()\n",
    "\n",
    "def get_pdf_content(pdf_link):\n",
    "    sleep(15)\n",
    "    url = pdf_link\n",
    "    # The default urllib user agent is blocked by the server\n",
    "    r = urllib.request.Request(url, headers={'User-Agent': 'XYZ/3.0'})\n",
    "    f = urllib.request.urlopen(r).read()\n",
    "    f = BytesIO(f)\n",
    "    pdfReader = PyPDF2.PdfFileReader(f)\n",
    "    \n",
    "    nb_pages = pdfReader.getNumPages()\n",
    "    text = ''\n",
    "    for i in range(0, nb_pages):\n",
    "        pageObj = pdfReader.getPage(i)\n",
    "        text = text + pageObj.extractText().replace('\\n', '').strip()\n",
    "    return text\n",
    "    \n",
    "df.loc[df['doctype'] == 'pdf', 'content'] = df.loc[df['doctype'] == 'pdf', 'link'].progress_apply(get_pdf_content)"
   ]
  },
  {
   "cell_type": "code",
   "execution_count": null,
   "metadata": {},
   "outputs": [],
   "source": [
    "df.loc[[1771, 1778, 1786, 1787, 1788, 1790, 1808, 1815, 1819, 1823, 1830, 1832, 1833, 1834, 1835, 1836, 1837, 1838, 1839, 1880, 1891, 1892, 1893, 1894, 1895, 1913, 1914, 1921, 1924, 1929, 1937, 1940, 1946, 1951, 1952, 1953, 1956, 1957, 1965, 1973, 1987, 2005, 2007, 2008, 2028, 2029, 2030, 2031, 2061, 2072, 2075, 2079, 2087, 2090, 2101, 2111, 2112, 2113, 2114, 2115, 2122, 2135, 2137, 2138, 2139, 2140, 2145], 'content'] = None"
   ]
  },
  {
   "cell_type": "code",
   "execution_count": null,
   "metadata": {},
   "outputs": [],
   "source": [
    "# For PDF files that PyPDF2 could not deal with\n",
    "from pdfminer.high_level import extract_text\n",
    "\n",
    "def get_hard_pdf_content(pdf_link):\n",
    "    sleep(15)\n",
    "    url = pdf_link\n",
    "    r = urllib.request.Request(url, headers={'User-Agent': 'XYZ/3.0'})\n",
    "    f = urllib.request.urlopen(r).read()\n",
    "    f = BytesIO(f)\n",
    "    text = extract_text(f).replace('\\n', '').strip()\n",
    "    return text\n",
    "\n",
    "df.loc[(df['doctype'] == 'pdf') & (df['content'].isna()), 'content'] = df.loc[(df['doctype'] == 'pdf') & (df['content'].isna()), 'link'].progress_apply(get_hard_pdf_content)"
   ]
  },
  {
   "cell_type": "markdown",
   "metadata": {},
   "source": [
    "## Step 4: cleaning content"
   ]
  },
  {
   "cell_type": "code",
   "execution_count": 1,
   "metadata": {},
   "outputs": [],
   "source": [
    "import pandas as pd\n",
    "df = pd.read_json('content.json', orient='table')"
   ]
  },
  {
   "cell_type": "code",
   "execution_count": 2,
   "metadata": {},
   "outputs": [],
   "source": [
    "# Delete final paragraphs about the alignment of third countries with the EU's position\n",
    "df['content'] = df['content'].str.replace(r'The Candidate Countries.*', '').str.strip()\n",
    "# Delete introductions to conclusions\n",
    "df.loc[df['content'].str.contains(r'\\b1\\. '), 'content'] = df.loc[df['content'].str.contains(r'\\b1\\. '), 'content'].str.extract(r'\\b1\\.(.*)', expand=False).str.strip()\n",
    "\n",
    "# Delete item in French\n",
    "df = df.drop([1790])\n",
    "# Select appropriate content when scraping gave broader results\n",
    "df.at[1080, 'content'] = \"The European Council strongly condemns the continued assault on Aleppo by the Syrian regime and its allies, notably Russia and Iran, including the deliberate targeting of civilians and hospitals. The European Council urgently calls on the regime and Russia, as well as all parties in the Syrian conflict to implement immediately the following four emergency measures: a) the evacuation in safety and dignity of the inhabitants of the eastern part of Aleppo under the supervision and coordination of the United Nations, to a destination of their choosing. Members of the civil defence and civil administration must also be evacuated without obstruction under the supervision of the United Nations. The most seriously injured persons should be evacuated first; b) immediate and unconditional aid and protection for all inhabitants of the eastern part of Aleppo, without discrimination and in accordance with international humanitarian law, guaranteeing full and unimpeded access for the United Nations and its partners on the ground in supplying essential items and urgent medical assistance, as provided for in United Nations Security Council Resolution 2258, for the whole of Syria; c) genuine protection for all medical personnel and installations throughout the country, in accordance with United Nations Security Council Resolution 2286, and in particular for the border hospitals of Atmeh, Darkoush, Bab Al Hawa and Bab Al Salamah; d) international humanitarian law needs to be applied in the eastern part of Aleppo but also to the whole country and in particular to all those areas in which civilians have been besieged. The EU, as the first provider of humanitarian support to the Syrian population, will continue to work for achieving these goals. 27. Hostilities in Syria must cease immediately. The EU will work constructively with all partners, under UN auspices, towards a transition as agreed in United Nations Security Council Resolution 2254. To this end, the European Council invites the High Representative to continue her ongoing direct engagement with all relevant partners. Those responsible for breaches of international law, some of which may amount to war crimes, must be held accountable. The EU is considering all available options. The EU will provide support for Syria's reconstruction only once a credible political transition is firmly under way.\"\n",
    "df.at[1771, 'content'] = \"The European Council congratulates Ukraine on its new government and welcomes its determination to carry out political and economic reforms. Following the Commission´s second disbursement in December of 500 million Euro in macro-financial assistance, the EU and its Member States stand ready to further facilitate and support Ukraine's reform process, together with other donors and in line with IMF conditionality. The European Council welcomes the Commission's readiness to increase humanitarian aid to the suffering people in Ukraine. 6. The situation in eastern Ukraine remains a strong concern. The Union's policy of not recognising the illegal annexation of Crimea and Sevastopol was further tightened today. The EU will stay the course; the European Council is ready to take further steps if necessary. All parties, including Russia, should actively engage in and implement fully the Minsk agreements. The European Council calls for unhindered access to the crash site of MH17 in the interest of the ongoing investigations.\"\n",
    "df.at[1778, 'content'] = \"The EU reiterates its strong support for the UN's efforts to bring together key stakeholders in a dialogue on Libya's future. In this regard, it endorsed the efforts of the Special Representative of the UN Secretary General, Bernardino León, to take forward the Ghadames process. There is no alternative to a political solution based on dialogue, respect and trust. The EU condemns the violence which weighs heavily on the civilian population and undermines the prospects for a peaceful negotiated settlement. The recent military actions of the weekend are of particular concern. The EU calls for restraint on all sides and supports UN calls for a ceasefire so as to give the necessary space for inclusive national dialogue. The EU welcomes the engagement of those parties who have reacted positively to the UN initiative. The EU is concerned by the negative impact of the situation in Libya on other countries and calls on all those with an interest in the stability of Libya to support constructively the process.   Those who are undermining prospects for a political solution risk tipping Libya fully into civil war. They must face consequences for their actions. The EU's strong commitment to the unity and territorial integrity of Libya and the need to prevent the spread of terrorism, means that it remains ready to consider further actions, including restrictive measures, should circumstances so require.  The UN Security Council should also take measures against those obstructing dialogue.\"\n",
    "df.at[1880, 'content'] = \"Recalling the statements of the Heads of State or Government on Ukraine of 6 March and 27 May and its conclusions of 21 March, 27 June and 16 July, the European Council remains extremely concerned by the ongoing and increasingly intense fighting in Eastern Ukraine and continues to strongly condemn the illegal annexation of Crimea. It condemns the increasing inflows of fighters and weapons from the territory of the Russian Federation into Eastern Ukraine as well as the aggression by Russian armed forces on Ukrainian soil. It calls upon the Russian Federation to immediately withdraw all its military assets and forces from Ukraine. The European Union reiterates the urgent need for a sustainable political solution based on respect for Ukraine\\'s sovereignty, territorial integrity, unity and independence. The European Council underlines the importance of implementing President Poroshenko\\'s peace plan without delay. The first step should consist of a mutually agreed and viable cease-fire, the re-establishment of Ukrainian control over its border, and an immediate halt to the flow of arms, material and military personnel from the Russian Federation into Ukraine, as well as the urgent release of all hostages held by the illegally armed groups as well as of the prisoners detained in the Russian Federation. Moreover, the European Council reiterates its call for immediate, safe and unrestricted access to the MH17 crash site as part of a cease-fire. The European Council expresses once more its support for the valuable efforts of the Organisation for Security and Cooperation in Europe. 10.  The European Council welcomes the trilateral talks initiated between the European Union, Ukraine and the Russian Federation on practical issues with regard to the implementation of the Association Agreement/DCFTA and the talks on energy. The European Council calls on all parties to keep up the momentum in order to reach tangible results within the agreed timeframe. The European Council also calls on all parties to support and facilitate a stable and secure transport of energy sources, in particular gas. 11.  The European Council calls on all parties to support and facilitate without delay the work of international humanitarian organisations, in accordance with international humanitarian law and principles. The humanitarian impact of the conflict on the civilian population should not be exploited for political or military ends. The European Council calls on all contributors, including the Russian Federation, to support the international relief effort led by the United Nations, in full recognition of the Ukrainian Government\\'s role as a first responder. 12.  The European Council remains engaged in the monitoring and assessment of the restrictive measures adopted by the European Union and stands ready to take significant further steps, in light of the evolution of the situation on the ground. It requests the Commission to urgently undertake preparatory work, jointly with the EEAS, and present proposals for consideration within a week. It requests the Commission to include in its proposal a provision on the basis of which every person and institution dealing with the separatist groups in the Donbass will be listed. 13.  The European Council welcomes the exceptional measures taken by the Commission to stabilise the EU agricultural and food markets in order to alleviate the effects of the Russian import restrictions on certain EU agricultural products. It invites the Commission to monitor the situation and to consider adopting any further measures, as appropriate.\"\n",
    "df.at[1924, 'content'] = \"Recalling the statements of the Heads of State or Government on Ukraine of 6 March and 27 May and its conclusions of 21 March and 27 June, the European Council once again stresses its support for a peaceful settlement of the crisis in Ukraine, notably the urgent need to agree on a genuine and sustainable cease-fire by all parties to create the necessary conditions for the implementation of President Poroshenko's peace plan. The European Council supports the diplomatic efforts by Ukraine, the Russian Federation, France and Germany, as well as the joint Berlin Declaration of 2 July. The European Council condemns the continuation of illegal activities by armed militants in Eastern Ukraine, including the occupation of public buildings, hostage-taking and armed attacks on Ukrainian law enforcers and border guards. The European Council urges the Russian Federation to actively use its influence over the illegally armed groups and to stop the flow of weapons and militants across the border, in order to achieve a rapid de-escalation. In this context, the European Council recalls the decision of 11 July to expand the travel ban and asset freeze within the European Union to 11 new individuals for actions undermining Ukraine's territorial integrity, sovereignty and independence. Member States also agreed to discontinue the application of their agreement of 20 February 2014 on export licences. 6. The European Council regrets that the requested steps it set out in its 27 June conclusions have not been adequately taken. As a result, the European Council agrees to expand the restrictive measures, with a view to targeting entities, including from the Russian Federation, that are materially or financially supporting actions undermining or threatening Ukraine's sovereignty, territorial integrity and independence. It tasks the Council to adopt the necessary legal instruments and to decide by the end of July on a first list of entities and persons, including from the Russian Federation, to be listed under the enhanced criteria. It also asks to consider the possibility of targeting individuals or entities who actively provide material or financial support to the Russian decision-makers responsible for the annexation of Crimea or the destabilisation of Eastern-Ukraine. The European Council requests the EIB to suspend the signature of new financing operations in the Russian Federation. European Union Member States will coordinate their positions within the EBRD Board of Directors with a view to also suspending financing of new operations. Finally, the European Council invites the Commission to re-assess EU-Russia cooperation programmes with a view to taking a decision, on a case by case basis, on the suspension of the implementation of EU bilateral and regional cooperation programmes. However, projects dealing exclusively with cross-border cooperation and civil society will be maintained. The European Council recalls that the Commission, the EEAS and the Member States have been undertaking preparatory work on targeted measures, as it requested in March, so that further steps can be taken without delay. The European Council remains committed to reconvene at any time should events so require. In line with the policy of non-recognition of the illegal annexation of Crimea and Sevastopol, the European Council requests the Commission and the EEAS to present proposals for additional measures in particular on restricting investments in Crimea and Sevastopol. The European Council also expects the International Financial Institutions to refrain from financing any projects that explicitly or implicitly recognise the illegal annexation of Crimea and Sevastopol. 7. The European Council commends the efforts of the OSCE and its Chairmanship in Office, particularly in facilitating meetings of the Contact Group in Ukraine, and its readiness to establish a border-monitoring mission, to which the European Union and its Member States stand ready to consider a substantial contribution. 8. The European Council stresses the European Union's commitment to pursue trilateral talks on the conditions of gas supply from the Russian Federation to Ukraine and commends the efforts of the Commission in that regard. Finding a swift agreement is important for safeguarding the security of supply and transit of natural gas through Ukraine to EU Member States and for the stabilisation of Ukraine's economy. The European Council stresses the importance of Ukraine ratifying the Association Agreement with a view to its early provisional application. It welcomes the holding of trilateral consultations at ministerial level between Ukraine, the Russian Federation and the European Union on 11 July on the implementation of the Association Agreement. In this context, it also welcomes the setting up of a consultation mechanism to address potential difficulties resulting from the effects of the implementation of the Deep and Comprehensive Free Trade Area on the implementation of the Free Trade Agreement of the Commonwealth of Independent States.\"\n",
    "df.at[1940, 'content'] = \"Recalling the Statements of the Heads of State and Government on Ukraine of 6 March and 27 May, the European Council conclusions of 21 March and the conclusions of the Foreign Affairs Council on Ukraine of 23 June, the European Council expresses its support to the peace plan announced last week by President Poroshenko. It takes note of the Russian President\\'s declaration of support in principle of the peace plan and the Federation Council\\'s decision to revoke the authorisation to use Russian forces to intervene militarily in Ukraine. 30.  The European Council regrets that the cease-fire, while being respected by the Ukrainian authorities, has not led to the full cessation of military hostilities. Therefore, it calls upon all parties to genuinely commit to the implementation of the peace plan and to cement the cessation of the military activities. It urges the Russian Federation to actively use its influence over the illegally armed groups and to stop the flow of weapons and militants across the border, in order to achieve rapid and tangible results in de-escalation. The European Council supports the OSCE monitoring the implementation of the peace plan as well as its role in supporting the cease-fire and the establishment of effective border controls. 31.  The European Council reconfirms its commitment to support the economic stabilisation process in Ukraine and welcomes the two recent significant Commission disbursements totalling 750 million EUR in the framework of the State Building Contract and the Macro Financial Assistance. In this context, the European Council looks forward to the high level donor coordination meeting on Ukraine to be held in Brussels on 8 July. 32.  Following its March conclusions and the decision not to recognise the illegal annexation of Conclusions – 26/27 June 2014 Crimea and Sevastopol, the European Council welcomes the work undertaken by the Commission to give effect to this policy and the decision to prohibit the import of goods from Crimea and Sevastopol which do not have a Ukrainian certificate. 33.  The European Council recalls that the European Commission, the EEAS and the Member States have been undertaking preparatory work on targeted measures, as it requested in March, so that further steps can be taken without delay. In that respect, the European Council expects that by Monday 30 June the following steps will have been taken : agreement on a verification mechanism, monitored by the OSCE, for the cease-fire and for the effective control of the border; return to the Ukrainian authorities of the three border checkpoints (Izvarino, Dolzhanskiy, Krasnopartizansk); release of hostages including all of the OSCE observers; launch of substantial negotiations on the implementation of President Poroshenko\\'s peace plan. The Council will assess the situation and, should it be required, adopt necessary decisions. The European Council underlines its commitment to reconvene at any time for further significant restrictive measures.\"\n",
    "df.at[826, 'content'] = \"The European Union and its Member States regret the visit of President Omar Al-Bashir to Uganda, a State party to the Rome Statute of the International Criminal Court (ICC). The EU calls upon all Member States of the United Nations to abide by and implement the resolutions adopted by the Security Council under Chapter VII of the UN Charter, notably UNSCR 1593(2005). The EU urges Uganda to respect its obligations under international law and as a State Party to the ICC. The European Union is committed to enforcing international criminal law and to ending impunity and remains a staunch supporter of the ICC.\"\n",
    "\n",
    "df['content'] = df['content'].str.replace(\"\\\\\", '')\n",
    "df['content'] = df['content'].str.replace('\\(cid:5\\)', 'N')\n",
    "df['content'] = df['content'].str.replace('\\(cid:6\\)', 'N')"
   ]
  },
  {
   "cell_type": "markdown",
   "metadata": {},
   "source": [
    "## Step 5: finding the most frequent words"
   ]
  },
  {
   "cell_type": "code",
   "execution_count": 3,
   "metadata": {},
   "outputs": [
    {
     "data": {
      "text/plain": [
       "the              18231\n",
       "and               8465\n",
       "of                7572\n",
       "to                6631\n",
       "in                4691\n",
       "eu                2519\n",
       "a                 2123\n",
       "on                1977\n",
       "for               1905\n",
       "its               1575\n",
       "with              1487\n",
       "council           1302\n",
       "as                1249\n",
       "by                1230\n",
       "all               1121\n",
       "that              1120\n",
       "is                1011\n",
       "be                 852\n",
       "international      818\n",
       "this               796\n",
       "support            794\n",
       "it                 765\n",
       "will               758\n",
       "european           729\n",
       "political          721\n",
       "including          686\n",
       "an                 583\n",
       "security           566\n",
       "humanitarian       552\n",
       "calls              524\n",
       "human              522\n",
       "which              513\n",
       "their              493\n",
       "union              485\n",
       "rights             468\n",
       "are                449\n",
       "efforts            420\n",
       "at                 411\n",
       "also               411\n",
       "government         389\n",
       "welcomes           387\n",
       "has                351\n",
       "un                 343\n",
       "through            328\n",
       "member             322\n",
       "parties            317\n",
       "further            310\n",
       "continue           308\n",
       "national           307\n",
       "from               302\n",
       "dtype: int64"
      ]
     },
     "execution_count": 3,
     "metadata": {},
     "output_type": "execute_result"
    }
   ],
   "source": [
    "pd.Series(' '.join(df['content']).lower().split()).value_counts()[:50]"
   ]
  },
  {
   "cell_type": "markdown",
   "metadata": {},
   "source": [
    "A raw search returns a lot of articles, particles and conjunctions that are not meaningful, we need to refine it. One approach is to identify expressions that follow our subject, referred as \"the EU\", \"the European Union\", \"the European Council\", \"the Council\", or simply \"we\"."
   ]
  },
  {
   "cell_type": "code",
   "execution_count": 4,
   "metadata": {},
   "outputs": [],
   "source": [
    "import re\n",
    "expressions = df['content'].str.findall(r'the council\\s+((?:[\\w\\']+(?:\\s+|$)){5})|the european council\\s+((?:[\\w\\']+(?:\\s+|$)){5})|the eu\\s+((?:[\\w\\']+(?:\\s+|$)){5})|the european union\\s+((?:[\\w\\']+(?:\\s+|$)){5})|\\bwe\\s+((?:[\\w\\']+(?:\\s+|$)){5})', flags=re.IGNORECASE).explode()"
   ]
  },
  {
   "cell_type": "code",
   "execution_count": 5,
   "metadata": {},
   "outputs": [],
   "source": [
    "# Remove empty tuples\n",
    "def rem_empty_tuples(tup):\n",
    "    tup = [t for t in tup if t]\n",
    "    return tup\n",
    "\n",
    "expressions = expressions.apply(rem_empty_tuples)\n",
    "\n",
    "# Convert to strings\n",
    "expressions = expressions.apply(''.join)"
   ]
  },
  {
   "cell_type": "code",
   "execution_count": 6,
   "metadata": {
    "scrolled": true
   },
   "outputs": [
    {
     "data": {
      "text/plain": [
       "calls on all parties to                      22\n",
       "Rue de la Loi 175                            21\n",
       "and its Member States will                   15\n",
       "and its Member States are                    15\n",
       "is deeply concerned by the                   10\n",
       "stands ready to support the                   9\n",
       "reiterates its support for the                8\n",
       "will continue to support the                  8\n",
       "invites the High Representative to            8\n",
       "reiterates its call for the                   7\n",
       "confirms the EU's readiness to                7\n",
       "reiterates its firm commitment to             7\n",
       "and its Member States call                    7\n",
       "calls on all parties in                       7\n",
       "reiterates its full support for               7\n",
       "and its Member States have                    6\n",
       "condemns in the strongest terms               6\n",
       "and its Member States stand                   6\n",
       "calls on all sides to                         6\n",
       "reiterates its full support to                6\n",
       "commends the efforts of the                   6\n",
       "reiterates its unequivocal commitment to      6\n",
       "will continue to monitor the                  6\n",
       "reaffirms its commitment to the               5\n",
       "will continue to closely monitor              5\n",
       "calls for full compliance with                5\n",
       "reiterates its support to the                 5\n",
       "reiterates that there can be                  5\n",
       "reiterates its commitment to the              5\n",
       "remains strongly committed to the             5\n",
       "welcomes the continued presence of            5\n",
       "calls again on UN Member                      5\n",
       "reaffirms its commitment to support           5\n",
       "reiterates the EU's commitment to             4\n",
       "welcomes the commitment of the                4\n",
       "will use its engagement and                   4\n",
       "reiterates its call on all                    4\n",
       "calls on all stakeholders to                  4\n",
       "will continue to work with                    4\n",
       "remains deeply concerned by the               4\n",
       "and its Member States regret                  4\n",
       "reiterates its strong condemnation of         4\n",
       "will continue to work closely                 4\n",
       "calls upon all parties to                     4\n",
       "remains committed to fully implementing       4\n",
       "underlines the importance of the              4\n",
       "and its Member States remain                  4\n",
       "stresses the importance of the                4\n",
       "calls on the government of                    4\n",
       "is deeply concerned about the                 4\n",
       "Name: content, dtype: int64"
      ]
     },
     "execution_count": 6,
     "metadata": {},
     "output_type": "execute_result"
    }
   ],
   "source": [
    "expressions.value_counts()[:50]"
   ]
  },
  {
   "cell_type": "markdown",
   "metadata": {},
   "source": [
    "We find indeed that \"is deeply concerned by\" is one of most frequent expressions used in EU foreign policy statements. We can also search other similar expressions that contain the word \"concern\"."
   ]
  },
  {
   "cell_type": "code",
   "execution_count": 7,
   "metadata": {},
   "outputs": [
    {
     "name": "stdout",
     "output_type": "stream",
     "text": [
      "Number of expressions containing the word \"concern\" or \"concerned\": 184 in a total of 3305\n"
     ]
    }
   ],
   "source": [
    "print('Number of expressions containing the word \"concern\" or \"concerned\":', expressions[expressions.str.contains('concern')].shape[0], 'in a total of', expressions.shape[0])"
   ]
  },
  {
   "cell_type": "code",
   "execution_count": 8,
   "metadata": {},
   "outputs": [
    {
     "data": {
      "text/plain": [
       "deeply          37\n",
       "deep            18\n",
       "is              17\n",
       "its             12\n",
       "remains         12\n",
       "extremely       10\n",
       "grave            9\n",
       "seriously        8\n",
       "serious          8\n",
       "the              5\n",
       "expresses        5\n",
       "particularly     5\n",
       "very             4\n",
       "also             4\n",
       "gravely          3\n",
       "be               3\n",
       "increasingly     3\n",
       "growing          3\n",
       "are              2\n",
       "parties          2\n",
       "utmost           2\n",
       "with             2\n",
       "profound         2\n",
       "ongoing          1\n",
       "deepest          1\n",
       "all              1\n",
       "likewise         1\n",
       "of               1\n",
       "strong           1\n",
       "great            1\n",
       "highest          1\n",
       "Name: content, dtype: int64"
      ]
     },
     "execution_count": 8,
     "metadata": {},
     "output_type": "execute_result"
    }
   ],
   "source": [
    "concern_levels = expressions.str.extract(r'(\\w+)\\sconcern', flags=re.IGNORECASE, expand=False).dropna()\n",
    "concern_levels.value_counts()"
   ]
  },
  {
   "cell_type": "markdown",
   "metadata": {},
   "source": [
    "Deep and deeply are the most frequent level of concern, but the whole spectrum is quite wide: ongoing concern, growing concern, increasingly concerned, very concerned, particularly concerned, serious concern, great concern, profound concern, strong concern, grave concern, extreme concern, highest concern, deepest concern, utmost concern."
   ]
  },
  {
   "cell_type": "code",
   "execution_count": 9,
   "metadata": {},
   "outputs": [
    {
     "data": {
      "text/plain": [
       "the           1850\n",
       "to             980\n",
       "of             593\n",
       "its            548\n",
       "and            350\n",
       "on             329\n",
       "that           307\n",
       "calls          293\n",
       "welcomes       283\n",
       "is             242\n",
       "will           239\n",
       "reiterates     227\n",
       "all            221\n",
       "for            210\n",
       "support        188\n",
       "also           169\n",
       "in             149\n",
       "by             148\n",
       "member         135\n",
       "states         132\n",
       "continue       128\n",
       "a              113\n",
       "concerned      112\n",
       "commitment     110\n",
       "importance     105\n",
       "recalls        102\n",
       "remains        100\n",
       "parties        100\n",
       "condemns        98\n",
       "ready           97\n",
       "urges           94\n",
       "supports        91\n",
       "with            89\n",
       "efforts         89\n",
       "underlines      85\n",
       "strongly        82\n",
       "call            80\n",
       "has             78\n",
       "encourages      75\n",
       "committed       74\n",
       "reaffirms       74\n",
       "government      74\n",
       "expresses       69\n",
       "stands          64\n",
       "concern         61\n",
       "about           60\n",
       "commends        60\n",
       "need            59\n",
       "work            59\n",
       "fully           58\n",
       "dtype: int64"
      ]
     },
     "execution_count": 9,
     "metadata": {},
     "output_type": "execute_result"
    }
   ],
   "source": [
    "pd.Series(' '.join(expressions).lower().split()).value_counts()[:50]"
   ]
  },
  {
   "cell_type": "markdown",
   "metadata": {},
   "source": [
    "When narrowing our search of the most frequent words only in expressions, we find that other common EU actions are calls, welcomes, repetitions of previously expressed positions (reiterate, continue, recall, remain), but also supports, commitments, encouragements or condemnations and urges.\n",
    "\n",
    "A special mention should be made about a declaration from February 2018 by the High Representative on behalf of the EU on Syria, about which \"the European Union **is running out of words** to describe the horror being experienced by the people of Eastern Ghouta\". Sometimes a lack of words can be the strongest expression..."
   ]
  },
  {
   "cell_type": "code",
   "execution_count": 10,
   "metadata": {},
   "outputs": [
    {
     "data": {
      "text/plain": [
       "'The European Union is running out of words to describe the horror being experienced by the people of Eastern Ghouta. Hundreds of civilians, women, children are targeted deliberately and relentlessly. They are the real, innocent, victims of this war. Unhindered humanitarian access and the protection of civilians is a moral duty and a matter of urgency. It is in the responsibility of all to prevent further loss of lives, to stop the violence. The fighting must stop now - the international community should unite to stop this human suffering. The European Union calls on all parties to the conflict, as well as the guarantors of the four De-Escalation Areas, to take all necessary measures to ensure an immediate ceasefire, the protection of the Syrian people by respecting International Humanitarian Law, and urgent humanitarian access. The Syrian regime must immediately stop targeting its own people and fulfil its primary responsibility to protect them. We therefore support the UN call for a 30-day humanitarian ceasefire and expect the international community to support it in New York. The European Union recall that there is no military solution to the conflict and call on all parties to seriously engage in the UN-led political process as a matter of urgency.'"
      ]
     },
     "execution_count": 10,
     "metadata": {},
     "output_type": "execute_result"
    }
   ],
   "source": [
    "df.loc[752, 'content']"
   ]
  },
  {
   "cell_type": "markdown",
   "metadata": {},
   "source": [
    "## Step 6: identifying the most mentioned countries and associated expressions "
   ]
  },
  {
   "cell_type": "code",
   "execution_count": 11,
   "metadata": {},
   "outputs": [
    {
     "data": {
      "text/plain": [
       "{'Ukraine': 29,\n",
       " 'Venezuela': 26,\n",
       " 'Syria': 25,\n",
       " 'Libya': 20,\n",
       " 'South Sudan': 13,\n",
       " 'Sudan': 12,\n",
       " 'Middle East': 12,\n",
       " 'Afghanistan': 11,\n",
       " 'Yemen': 9,\n",
       " 'Bosnia and Herzegovina': 9}"
      ]
     },
     "execution_count": 11,
     "metadata": {},
     "output_type": "execute_result"
    }
   ],
   "source": [
    "top_10_countries = df['main_topic'].value_counts()[:10].to_dict()\n",
    "top_10_countries"
   ]
  },
  {
   "cell_type": "code",
   "execution_count": 12,
   "metadata": {},
   "outputs": [
    {
     "name": "stdout",
     "output_type": "stream",
     "text": [
      "Ukraine\n",
      "calls on all parties to                     7\n",
      "calls again on UN Member                    5\n",
      "remains committed to fully implementing     4\n",
      "reiterates its full support for             4\n",
      "calls for full compliance with              4\n",
      "Name: content, dtype: int64\n",
      "\n",
      "\n",
      "Venezuela\n",
      "will continue to monitor the              3\n",
      "is ready to start work                    2\n",
      "considers that the voting session         2\n",
      "reiterates its readiness to cooperate     2\n",
      "calls on the Venezuelan Government        2\n",
      "Name: content, dtype: int64\n",
      "\n",
      "\n",
      "Syria\n",
      "will continue to support the                   6\n",
      "and its Member States will                     3\n",
      "calls upon all parties to                      3\n",
      "reiterates that there can be                   3\n",
      "imposed additional restrictive measures on     3\n",
      "Name: content, dtype: int64\n",
      "\n",
      "\n",
      "Libya\n",
      "calls on all parties in                   5\n",
      "remains strongly committed to the         4\n",
      "and its Member States call                3\n",
      "welcomes the UN humanitarian response     2\n",
      "emphasizes the importance of an           2\n",
      "Name: content, dtype: int64\n",
      "\n",
      "\n",
      "South Sudan\n",
      "calls on all parties to                  4\n",
      "calls on the Transitional Government     3\n",
      "welcomes the role of the                 2\n",
      "urges all parties to allow               2\n",
      "urges the Transitional Government to     2\n",
      "Name: content, dtype: int64\n",
      "\n",
      "\n",
      "Sudan\n",
      "calls upon all Member States        3\n",
      "and its Member States regret        3\n",
      "and its Member States call          2\n",
      "remains a strong supporter of       2\n",
      "reiterates its full support and     2\n",
      "Name: content, dtype: int64\n",
      "\n",
      "\n",
      "Middle East\n",
      "will continue to closely monitor               3\n",
      "underlines that the future development         2\n",
      "and both the Israeli and                       2\n",
      "must unequivocally and explicitly indicate     2\n",
      "calls on all sides to                          2\n",
      "Name: content, dtype: int64\n",
      "\n",
      "\n",
      "Afghanistan\n",
      "will use its engagement and     4\n",
      "calls on the new president      2\n",
      "underlines the need for the     2\n",
      "pays tribute to the courage     2\n",
      "calls on all countries in       2\n",
      "Name: content, dtype: int64\n",
      "\n",
      "\n",
      "Yemen\n",
      "calls on all parties to                4\n",
      "remains deeply concerned that more     2\n",
      "urges the Government of Yemen          2\n",
      "is deeply concerned by the             2\n",
      "also calls on all international        1\n",
      "Name: content, dtype: int64\n",
      "\n",
      "\n",
      "Bosnia and Herzegovina\n",
      "reiterates its unequivocal commitment to     6\n",
      "confirms the EU's readiness to               6\n",
      "welcomes the continued presence of           5\n",
      "at the same time encourages                  3\n",
      "reaffirms its determination to actively      2\n",
      "Name: content, dtype: int64\n",
      "\n",
      "\n"
     ]
    }
   ],
   "source": [
    "for country in top_10_countries:\n",
    "    print(country)\n",
    "    print(expressions.loc[df[df['main_topic'] == country].index].value_counts()[:5])\n",
    "    print('\\n')"
   ]
  }
 ],
 "metadata": {
  "kernelspec": {
   "display_name": "Python 3",
   "language": "python",
   "name": "python3"
  },
  "language_info": {
   "codemirror_mode": {
    "name": "ipython",
    "version": 3
   },
   "file_extension": ".py",
   "mimetype": "text/x-python",
   "name": "python",
   "nbconvert_exporter": "python",
   "pygments_lexer": "ipython3",
   "version": "3.7.6"
  }
 },
 "nbformat": 4,
 "nbformat_minor": 4
}
